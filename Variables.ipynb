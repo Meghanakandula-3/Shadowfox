{
  "nbformat": 4,
  "nbformat_minor": 0,
  "metadata": {
    "colab": {
      "provenance": [],
      "authorship_tag": "ABX9TyPZQK+Gv+CITbldPVcIdtTJ",
      "include_colab_link": true
    },
    "kernelspec": {
      "name": "python3",
      "display_name": "Python 3"
    },
    "language_info": {
      "name": "python"
    }
  },
  "cells": [
    {
      "cell_type": "markdown",
      "metadata": {
        "id": "view-in-github",
        "colab_type": "text"
      },
      "source": [
        "<a href=\"https://colab.research.google.com/github/Meghanakandula-3/Shadowfox/blob/main/Variables.ipynb\" target=\"_parent\"><img src=\"https://colab.research.google.com/assets/colab-badge.svg\" alt=\"Open In Colab\"/></a>"
      ]
    },
    {
      "cell_type": "code",
      "execution_count": null,
      "metadata": {
        "colab": {
          "base_uri": "https://localhost:8080/"
        },
        "id": "1BiAgaFF93b6",
        "outputId": "5ba2f21d-607f-4ace-ffa4-02c4687508ef"
      },
      "outputs": [
        {
          "output_type": "stream",
          "name": "stdout",
          "text": [
            "Value of pi: 3.142857142857143\n",
            "Type of pi: <class 'float'>\n"
          ]
        }
      ],
      "source": [
        "#variables1\n",
        "pi = 22 / 7\n",
        "print(\"Value of pi:\", pi)\n",
        "print(\"Type of pi:\", type(pi))"
      ]
    },
    {
      "cell_type": "code",
      "source": [
        "for=4"
      ],
      "metadata": {
        "colab": {
          "base_uri": "https://localhost:8080/",
          "height": 106
        },
        "id": "RhGhwZoPAcUj",
        "outputId": "bb95f70a-19e3-4891-f81c-f8e41556cdbc"
      },
      "execution_count": null,
      "outputs": [
        {
          "output_type": "error",
          "ename": "SyntaxError",
          "evalue": "invalid syntax (ipython-input-8-3639871942.py, line 1)",
          "traceback": [
            "\u001b[0;36m  File \u001b[0;32m\"/tmp/ipython-input-8-3639871942.py\"\u001b[0;36m, line \u001b[0;32m1\u001b[0m\n\u001b[0;31m    for=4\u001b[0m\n\u001b[0m       ^\u001b[0m\n\u001b[0;31mSyntaxError\u001b[0m\u001b[0;31m:\u001b[0m invalid syntax\n"
          ]
        }
      ]
    },
    {
      "cell_type": "markdown",
      "source": [
        "We get an error:Syntax error:invalid syntax\n",
        "Because for is a reserved keyword in python used in loops"
      ],
      "metadata": {
        "id": "XI5NELoCAfaj"
      }
    },
    {
      "cell_type": "code",
      "source": [
        "#simple interest\n",
        "P = 10000\n",
        "R = 5\n",
        "T = 3\n",
        "\n",
        "SI = (P * R * T) / 100\n",
        "print(\"Simple Interest for 3 years:\", SI)"
      ],
      "metadata": {
        "colab": {
          "base_uri": "https://localhost:8080/"
        },
        "id": "WvzygIE1BK6r",
        "outputId": "53fa24c4-4941-498f-c89f-cb4245ba0bda"
      },
      "execution_count": null,
      "outputs": [
        {
          "output_type": "stream",
          "name": "stdout",
          "text": [
            "Simple Interest for 3 years: 1500.0\n"
          ]
        }
      ]
    },
    {
      "cell_type": "code",
      "source": [],
      "metadata": {
        "id": "aNRNqfJnBejB"
      },
      "execution_count": null,
      "outputs": []
    }
  ]
}