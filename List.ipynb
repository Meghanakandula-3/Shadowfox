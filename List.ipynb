{
  "nbformat": 4,
  "nbformat_minor": 0,
  "metadata": {
    "colab": {
      "provenance": [],
      "authorship_tag": "ABX9TyOo4SGp0w0jWqbMQblZ92XU",
      "include_colab_link": true
    },
    "kernelspec": {
      "name": "python3",
      "display_name": "Python 3"
    },
    "language_info": {
      "name": "python"
    }
  },
  "cells": [
    {
      "cell_type": "markdown",
      "metadata": {
        "id": "view-in-github",
        "colab_type": "text"
      },
      "source": [
        "<a href=\"https://colab.research.google.com/github/Meghanakandula-3/Shadowfox/blob/main/List.ipynb\" target=\"_parent\"><img src=\"https://colab.research.google.com/assets/colab-badge.svg\" alt=\"Open In Colab\"/></a>"
      ]
    },
    {
      "cell_type": "code",
      "source": [
        "#List\n",
        "justice_league = [\"Superman\", \"Batman\", \"Wonder Woman\", \"Flash\", \"Aquaman\", \"Green Lantern\"]\n",
        "print(\"Initial Justice League:\", justice_league)\n"
      ],
      "metadata": {
        "colab": {
          "base_uri": "https://localhost:8080/"
        },
        "id": "TDjFGsaGV_0I",
        "outputId": "699dc161-ff39-4518-9305-805cf5da08ce"
      },
      "execution_count": null,
      "outputs": [
        {
          "output_type": "stream",
          "name": "stdout",
          "text": [
            "Initial Justice League: ['Superman', 'Batman', 'Wonder Woman', 'Flash', 'Aquaman', 'Green Lantern']\n"
          ]
        }
      ]
    },
    {
      "cell_type": "code",
      "source": [
        "#Step1\n",
        "print(\"Number of members:\", len(justice_league))\n"
      ],
      "metadata": {
        "colab": {
          "base_uri": "https://localhost:8080/"
        },
        "id": "zms2O2MJYorX",
        "outputId": "4845c389-91b5-4b4d-c913-8a108275cb42"
      },
      "execution_count": null,
      "outputs": [
        {
          "output_type": "stream",
          "name": "stdout",
          "text": [
            "Number of members: 6\n"
          ]
        }
      ]
    },
    {
      "cell_type": "code",
      "source": [
        "#Step2\n",
        "justice_league.append(\"Batgirl\")\n",
        "justice_league.append(\"Nightwing\")\n",
        "print(\"After adding Batgirl and Nightwing:\", justice_league)\n"
      ],
      "metadata": {
        "colab": {
          "base_uri": "https://localhost:8080/"
        },
        "id": "vixyAd3RYq_O",
        "outputId": "935803d3-2def-4c9c-eaf0-65196089bbab"
      },
      "execution_count": null,
      "outputs": [
        {
          "output_type": "stream",
          "name": "stdout",
          "text": [
            "After adding Batgirl and Nightwing: ['Superman', 'Batman', 'Wonder Woman', 'Flash', 'Aquaman', 'Green Lantern', 'Batgirl', 'Nightwing']\n"
          ]
        }
      ]
    },
    {
      "cell_type": "code",
      "source": [
        "#Step3\n",
        "justice_league.remove(\"Wonder Woman\")\n",
        "justice_league.insert(0, \"Wonder Woman\")\n",
        "print(\"After moving Wonder Woman to front:\", justice_league)\n"
      ],
      "metadata": {
        "colab": {
          "base_uri": "https://localhost:8080/"
        },
        "id": "HjCv4LfPYtoJ",
        "outputId": "75bbc550-01e1-41b8-e5b6-10230de945fc"
      },
      "execution_count": null,
      "outputs": [
        {
          "output_type": "stream",
          "name": "stdout",
          "text": [
            "After moving Wonder Woman to front: ['Wonder Woman', 'Superman', 'Batman', 'Flash', 'Aquaman', 'Green Lantern', 'Batgirl', 'Nightwing']\n"
          ]
        }
      ]
    },
    {
      "cell_type": "code",
      "source": [
        "#Step4\n",
        "aquaman_index = justice_league.index(\"Aquaman\")\n",
        "flash_index = justice_league.index(\"Flash\")\n",
        "\n",
        "# We want to insert \"Green Lantern\" between Flash and Aquaman\n",
        "justice_league.remove(\"Green Lantern\")\n",
        "justice_league.insert(aquaman_index, \"Green Lantern\")\n",
        "print(\"After separating Aquaman and Flash:\", justice_league)\n"
      ],
      "metadata": {
        "colab": {
          "base_uri": "https://localhost:8080/"
        },
        "id": "3af25nHHYxur",
        "outputId": "d4f4b22e-3bf0-485b-8954-a367996bc52b"
      },
      "execution_count": null,
      "outputs": [
        {
          "output_type": "stream",
          "name": "stdout",
          "text": [
            "After separating Aquaman and Flash: ['Wonder Woman', 'Superman', 'Batman', 'Flash', 'Green Lantern', 'Aquaman', 'Batgirl', 'Nightwing']\n"
          ]
        }
      ]
    },
    {
      "cell_type": "code",
      "source": [
        "#Step5\n",
        "justice_league = [\"Cyborg\", \"Shazam\", \"Hawkgirl\", \"Martian Manhunter\", \"Green Arrow\"]\n",
        "print(\"After team replacement:\", justice_league)\n"
      ],
      "metadata": {
        "colab": {
          "base_uri": "https://localhost:8080/"
        },
        "id": "r2mU8aDVY0cT",
        "outputId": "27b2fc2b-7cdb-49b9-8767-34a327c5cb13"
      },
      "execution_count": null,
      "outputs": [
        {
          "output_type": "stream",
          "name": "stdout",
          "text": [
            "After team replacement: ['Cyborg', 'Shazam', 'Hawkgirl', 'Martian Manhunter', 'Green Arrow']\n"
          ]
        }
      ]
    },
    {
      "cell_type": "code",
      "source": [
        "#Step6\n",
        "justice_league.sort()\n",
        "print(\"Sorted Justice League:\", justice_league)\n",
        "print(\"New Leader (index 0):\", justice_league[0])\n"
      ],
      "metadata": {
        "colab": {
          "base_uri": "https://localhost:8080/"
        },
        "id": "uTyowYvsY9cT",
        "outputId": "21c3bcfd-3906-43df-c5e5-3a16f8577a58"
      },
      "execution_count": null,
      "outputs": [
        {
          "output_type": "stream",
          "name": "stdout",
          "text": [
            "Sorted Justice League: ['Cyborg', 'Green Arrow', 'Hawkgirl', 'Martian Manhunter', 'Shazam']\n",
            "New Leader (index 0): Cyborg\n"
          ]
        }
      ]
    },
    {
      "cell_type": "code",
      "source": [],
      "metadata": {
        "id": "F_nYVD0tZAAJ"
      },
      "execution_count": null,
      "outputs": []
    }
  ]
}