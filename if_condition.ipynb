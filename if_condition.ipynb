{
  "nbformat": 4,
  "nbformat_minor": 0,
  "metadata": {
    "colab": {
      "provenance": [],
      "authorship_tag": "ABX9TyP9jLAp+bh13TfkTuyN7Xux",
      "include_colab_link": true
    },
    "kernelspec": {
      "name": "python3",
      "display_name": "Python 3"
    },
    "language_info": {
      "name": "python"
    }
  },
  "cells": [
    {
      "cell_type": "markdown",
      "metadata": {
        "id": "view-in-github",
        "colab_type": "text"
      },
      "source": [
        "<a href=\"https://colab.research.google.com/github/Meghanakandula-3/Shadowfox/blob/main/if_condition.ipynb\" target=\"_parent\"><img src=\"https://colab.research.google.com/assets/colab-badge.svg\" alt=\"Open In Colab\"/></a>"
      ]
    },
    {
      "cell_type": "code",
      "source": [
        "# BMI calculator\n",
        "height = float(input(\"Enter height in meters: \"))\n",
        "weight = float(input(\"Enter weight in kilograms: \"))\n",
        "bmi = weight / (height ** 2)\n",
        "if bmi >= 30:\n",
        "    print(\"Obesity\")\n",
        "elif 25 <= bmi < 30:\n",
        "    print(\"Overweight\")\n",
        "elif 18.5 <= bmi < 25:\n",
        "    print(\"Normal\")\n",
        "else:\n",
        "    print(\"Underweight\")"
      ],
      "metadata": {
        "colab": {
          "base_uri": "https://localhost:8080/"
        },
        "id": "UF43CWUtXIOC",
        "outputId": "17f452d7-05e3-42a6-9bb5-d6a66c2a697b"
      },
      "execution_count": null,
      "outputs": [
        {
          "output_type": "stream",
          "name": "stdout",
          "text": [
            "Enter height in meters: 167\n",
            "Enter weight in kilograms: 64\n",
            "Underweight\n"
          ]
        }
      ]
    },
    {
      "cell_type": "code",
      "source": [
        "# Task2\n",
        "australia = [\"Sydney\", \"Melbourne\", \"Brisbane\", \"Perth\"]\n",
        "uae = [\"Dubai\", \"Abu Dhabi\", \"Sharjah\", \"Ajman\"]\n",
        "india = [\"Mumbai\", \"Bangalore\", \"Chennai\", \"Delhi\"]\n",
        "city = input(\"Enter a city name: \")\n",
        "if city in australia:\n",
        "    print(f\"{city} is in Australia\")\n",
        "elif city in uae:\n",
        "    print(f\"{city} is in UAE\")\n",
        "elif city in india:\n",
        "    print(f\"{city} is in India\")\n",
        "else:\n",
        "    print(f\"{city} is not in the list\")"
      ],
      "metadata": {
        "colab": {
          "base_uri": "https://localhost:8080/"
        },
        "id": "1CYJFaZtXXz0",
        "outputId": "262822d5-1007-40d8-c4ca-ea30ccaf96bd"
      },
      "execution_count": null,
      "outputs": [
        {
          "output_type": "stream",
          "name": "stdout",
          "text": [
            "Enter a city name: Sydney\n",
            "Sydney is in Australia\n"
          ]
        }
      ]
    },
    {
      "cell_type": "code",
      "source": [
        "# Task3\n",
        "australia = [\"Sydney\", \"Melbourne\", \"Brisbane\", \"Perth\"]\n",
        "uae = [\"Dubai\", \"Abu Dhabi\", \"Sharjah\", \"Ajman\"]\n",
        "india = [\"Mumbai\", \"Bangalore\", \"Chennai\", \"Delhi\"]\n",
        "city1 = input(\"Enter the first city: \")\n",
        "city2 = input(\"Enter the second city: \")\n",
        "def get_country(city):\n",
        "    if city in australia:\n",
        "        return \"Australia\"\n",
        "    elif city in uae:\n",
        "        return \"UAE\"\n",
        "    elif city in india:\n",
        "        return \"India\"\n",
        "    else:\n",
        "        return None\n",
        "\n",
        "country1 = get_country(city1)\n",
        "country2 = get_country(city2)\n",
        "if country1 and country2:\n",
        "    if country1 == country2:\n",
        "        print(f\"Both cities are in {country1}\")\n",
        "    else:\n",
        "        print(\"They don't belong to the same country\")\n",
        "else:\n",
        "    print(\"One or both cities are not in the list\")"
      ],
      "metadata": {
        "colab": {
          "base_uri": "https://localhost:8080/"
        },
        "id": "9sFXtatkY9uR",
        "outputId": "efc95e6a-d756-4072-a6ed-2057b54d4c1c"
      },
      "execution_count": null,
      "outputs": [
        {
          "output_type": "stream",
          "name": "stdout",
          "text": [
            "Enter the first city: Sydney\n",
            "Enter the second city: Abu Dhabi\n",
            "They don't belong to the same country\n"
          ]
        }
      ]
    },
    {
      "cell_type": "code",
      "source": [],
      "metadata": {
        "id": "OSccPkMsZVjL"
      },
      "execution_count": null,
      "outputs": []
    }
  ]
}