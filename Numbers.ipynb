{
  "nbformat": 4,
  "nbformat_minor": 0,
  "metadata": {
    "colab": {
      "provenance": [],
      "authorship_tag": "ABX9TyPqZUv+EYNYum7JmJkws5rd",
      "include_colab_link": true
    },
    "kernelspec": {
      "name": "python3",
      "display_name": "Python 3"
    },
    "language_info": {
      "name": "python"
    }
  },
  "cells": [
    {
      "cell_type": "markdown",
      "metadata": {
        "id": "view-in-github",
        "colab_type": "text"
      },
      "source": [
        "<a href=\"https://colab.research.google.com/github/Meghanakandula-3/Shadowfox/blob/main/Numbers.ipynb\" target=\"_parent\"><img src=\"https://colab.research.google.com/assets/colab-badge.svg\" alt=\"Open In Colab\"/></a>"
      ]
    },
    {
      "cell_type": "code",
      "execution_count": null,
      "metadata": {
        "colab": {
          "base_uri": "https://localhost:8080/"
        },
        "id": "7YafPmKVOwlz",
        "outputId": "e11d0bc9-e131-4706-9881-ed0e901c53c7"
      },
      "outputs": [
        {
          "output_type": "stream",
          "name": "stdout",
          "text": [
            "The formatted result is: 221\n"
          ]
        }
      ],
      "source": [
        "#formatted string\n",
        "def format_number(num, rep_type):\n",
        "    result = format(num, rep_type)\n",
        "    print(f\"The formatted result is: {result}\")\n",
        "\n",
        "format_number(145, 'o')"
      ]
    },
    {
      "cell_type": "code",
      "source": [
        "#Area of pond\n",
        "radius = 84\n",
        "pi = 3.14\n",
        "area = pi * radius ** 2\n",
        "water_per_sq_meter = 1.4\n",
        "total_water = area * water_per_sq_meter\n",
        "print(\"Pond Area (m^2):\", int(area))\n",
        "print(\"Total Water (liters):\", int(total_water))"
      ],
      "metadata": {
        "colab": {
          "base_uri": "https://localhost:8080/"
        },
        "id": "qQn1e_VxP97Y",
        "outputId": "9760d550-b3b3-4b3f-b2a7-c8a3fdf54533"
      },
      "execution_count": null,
      "outputs": [
        {
          "output_type": "stream",
          "name": "stdout",
          "text": [
            "Pond Area (m^2): 22155\n",
            "Total Water (liters): 31018\n"
          ]
        }
      ]
    },
    {
      "cell_type": "code",
      "source": [
        "#Calculate Speed\n",
        "distance = 490\n",
        "time_minutes = 7\n",
        "time_seconds = time_minutes * 60\n",
        "\n",
        "speed = distance / time_seconds\n",
        "\n",
        "# Print without decimal\n",
        "print(\"Speed (m/s):\", int(speed))"
      ],
      "metadata": {
        "colab": {
          "base_uri": "https://localhost:8080/"
        },
        "id": "Gp3AiparQe0c",
        "outputId": "f202fff3-81bd-4236-87ad-0f5f680071a0"
      },
      "execution_count": null,
      "outputs": [
        {
          "output_type": "stream",
          "name": "stdout",
          "text": [
            "Speed (m/s): 1\n"
          ]
        }
      ]
    },
    {
      "cell_type": "code",
      "source": [],
      "metadata": {
        "id": "lJQMw4QJRH8I"
      },
      "execution_count": null,
      "outputs": []
    }
  ]
}