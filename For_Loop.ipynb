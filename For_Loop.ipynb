{
  "nbformat": 4,
  "nbformat_minor": 0,
  "metadata": {
    "colab": {
      "provenance": [],
      "authorship_tag": "ABX9TyPJ3z/iW+IUU/cnxDjknaiT",
      "include_colab_link": true
    },
    "kernelspec": {
      "name": "python3",
      "display_name": "Python 3"
    },
    "language_info": {
      "name": "python"
    }
  },
  "cells": [
    {
      "cell_type": "markdown",
      "metadata": {
        "id": "view-in-github",
        "colab_type": "text"
      },
      "source": [
        "<a href=\"https://colab.research.google.com/github/Meghanakandula-3/Shadowfox/blob/main/For_Loop.ipynb\" target=\"_parent\"><img src=\"https://colab.research.google.com/assets/colab-badge.svg\" alt=\"Open In Colab\"/></a>"
      ]
    },
    {
      "cell_type": "code",
      "source": [
        "#Dice Rolling Stimulation\n",
        "import random\n",
        "count_6 = 0\n",
        "count_1 = 0\n",
        "count_two_6s_in_a_row = 0\n",
        "previous_roll = 0\n",
        "for i in range(20):\n",
        "    roll = random.randint(1, 6)\n",
        "    print(f\"Roll {i+1}: {roll}\")\n",
        "\n",
        "    if roll == 6:\n",
        "        count_6 += 1\n",
        "        if previous_roll == 6:\n",
        "            count_two_6s_in_a_row += 1\n",
        "    if roll == 1:\n",
        "        count_1 += 1\n",
        "\n",
        "    previous_roll = roll\n",
        "\n",
        "# Step 3: Print results\n",
        "print(\"\\nResults:\")\n",
        "print(\"Number of times you rolled a 6:\", count_6)\n",
        "print(\"Number of times you rolled a 1:\", count_1)\n",
        "print(\"Number of times you rolled two 6s in a row:\", count_two_6s_in_a_row)"
      ],
      "metadata": {
        "colab": {
          "base_uri": "https://localhost:8080/"
        },
        "id": "jtpKfewNd6E7",
        "outputId": "22172941-c4c0-4302-fbc4-c111b8212719"
      },
      "execution_count": null,
      "outputs": [
        {
          "output_type": "stream",
          "name": "stdout",
          "text": [
            "Roll 1: 3\n",
            "Roll 2: 6\n",
            "Roll 3: 4\n",
            "Roll 4: 4\n",
            "Roll 5: 2\n",
            "Roll 6: 6\n",
            "Roll 7: 6\n",
            "Roll 8: 2\n",
            "Roll 9: 4\n",
            "Roll 10: 3\n",
            "Roll 11: 4\n",
            "Roll 12: 3\n",
            "Roll 13: 5\n",
            "Roll 14: 2\n",
            "Roll 15: 1\n",
            "Roll 16: 2\n",
            "Roll 17: 1\n",
            "Roll 18: 4\n",
            "Roll 19: 6\n",
            "Roll 20: 4\n",
            "\n",
            "Results:\n",
            "Number of times you rolled a 6: 4\n",
            "Number of times you rolled a 1: 2\n",
            "Number of times you rolled two 6s in a row: 1\n"
          ]
        }
      ]
    },
    {
      "cell_type": "code",
      "source": [
        "# Jumping Jacks Routine\n",
        "total_jacks = 0\n",
        "\n",
        "for i in range(10):\n",
        "    total_jacks += 10\n",
        "    print(f\"\\nYou just did 10 jumping jacks. Total done: {total_jacks}\")\n",
        "\n",
        "    if total_jacks < 100:\n",
        "        answer = input(\"Are you tired? (yes/y or no/n): \").strip().lower()\n",
        "\n",
        "        if answer in [\"yes\", \"y\"]:\n",
        "            print(f\"\\nYou completed a total of {total_jacks} jumping jacks.\")\n",
        "            break\n",
        "        elif answer in [\"no\", \"n\"]:\n",
        "            print(f\"{100 - total_jacks} jumping jacks remaining.\")\n",
        "    else:\n",
        "        print(\"\\nCongratulations! You completed the workout.\")"
      ],
      "metadata": {
        "colab": {
          "base_uri": "https://localhost:8080/"
        },
        "id": "4cgw29iAetXp",
        "outputId": "47a9dd29-f4b9-4269-9f69-4f6d8257471f"
      },
      "execution_count": null,
      "outputs": [
        {
          "output_type": "stream",
          "name": "stdout",
          "text": [
            "\n",
            "You just did 10 jumping jacks. Total done: 10\n",
            "Are you tired? (yes/y or no/n): yes\n",
            "\n",
            "You completed a total of 10 jumping jacks.\n"
          ]
        }
      ]
    }
  ]
}